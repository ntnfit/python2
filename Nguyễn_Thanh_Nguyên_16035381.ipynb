{
  "nbformat": 4,
  "nbformat_minor": 0,
  "metadata": {
    "colab": {
      "name": "Nguyễn Thanh Nguyên_16035381.ipynb",
      "provenance": [],
      "collapsed_sections": [],
      "authorship_tag": "ABX9TyN808EEIZFvxlU2UHeRPDQm",
      "include_colab_link": true
    },
    "kernelspec": {
      "name": "python3",
      "display_name": "Python 3"
    }
  },
  "cells": [
    {
      "cell_type": "markdown",
      "metadata": {
        "id": "view-in-github",
        "colab_type": "text"
      },
      "source": [
        "<a href=\"https://colab.research.google.com/github/ntnfit98/python2/blob/main/Nguy%E1%BB%85n_Thanh_Nguy%C3%AAn_16035381.ipynb\" target=\"_parent\"><img src=\"https://colab.research.google.com/assets/colab-badge.svg\" alt=\"Open In Colab\"/></a>"
      ]
    },
    {
      "cell_type": "markdown",
      "metadata": {
        "id": "5aQfg_3pxobf"
      },
      "source": [
        "Lập trình phân tích dữ liệu\r\n",
        "\r\n",
        "1.   Nguyễn Thanh Nguyên\r\n",
        "2.  16035381"
      ]
    },
    {
      "cell_type": "code",
      "metadata": {
        "id": "u5rV0-NVx2Rh"
      },
      "source": [
        "import matplotlib.pyplot as plt\r\n",
        "import seaborn as sns\r\n",
        "import numpy as np\r\n",
        "import pandas as pd\r\n",
        "%matplotlib inline"
      ],
      "execution_count": 30,
      "outputs": []
    },
    {
      "cell_type": "code",
      "metadata": {
        "colab": {
          "base_uri": "https://localhost:8080/"
        },
        "id": "kc9OP4TXynVU",
        "outputId": "528f7877-8d88-40b0-d297-06bc7d8cd073"
      },
      "source": [
        "df=pd.read_excel('/content/DIEM.xlsx')\r\n",
        "df.info()"
      ],
      "execution_count": 15,
      "outputs": [
        {
          "output_type": "stream",
          "text": [
            "<class 'pandas.core.frame.DataFrame'>\n",
            "RangeIndex: 64 entries, 0 to 63\n",
            "Data columns (total 8 columns):\n",
            " #   Column     Non-Null Count  Dtype  \n",
            "---  ------     --------------  -----  \n",
            " 0   STT        64 non-null     int64  \n",
            " 1   Mã SV      64 non-null     int64  \n",
            " 2   Họ đệm     64 non-null     object \n",
            " 3   Tên        64 non-null     object \n",
            " 4   Giới tính  64 non-null     object \n",
            " 5   Ngày sinh  60 non-null     object \n",
            " 6   Điểm LT    64 non-null     float64\n",
            " 7   Điểm TH    64 non-null     float64\n",
            "dtypes: float64(2), int64(2), object(4)\n",
            "memory usage: 4.1+ KB\n"
          ],
          "name": "stdout"
        }
      ]
    },
    {
      "cell_type": "code",
      "metadata": {
        "colab": {
          "base_uri": "https://localhost:8080/"
        },
        "id": "3EYEMguA0stO",
        "outputId": "006a2a9f-d608-43c3-f03a-4ac83c85625b"
      },
      "source": [
        "df.isnull().sum()"
      ],
      "execution_count": 17,
      "outputs": [
        {
          "output_type": "execute_result",
          "data": {
            "text/plain": [
              "STT          0\n",
              "Mã SV        0\n",
              "Họ đệm       0\n",
              "Tên          0\n",
              "Giới tính    0\n",
              "Ngày sinh    4\n",
              "Điểm LT      0\n",
              "Điểm TH      0\n",
              "dtype: int64"
            ]
          },
          "metadata": {
            "tags": []
          },
          "execution_count": 17
        }
      ]
    },
    {
      "cell_type": "code",
      "metadata": {
        "colab": {
          "base_uri": "https://localhost:8080/"
        },
        "id": "JfT3ACTX1K-G",
        "outputId": "1eefd4f7-1ff6-4ea1-d83d-e562c50004f0"
      },
      "source": [
        "df['Điểm LT'].describe()"
      ],
      "execution_count": 23,
      "outputs": [
        {
          "output_type": "execute_result",
          "data": {
            "text/plain": [
              "count    64.000000\n",
              "mean      5.315625\n",
              "std       1.205703\n",
              "min       0.000000\n",
              "25%       4.725000\n",
              "50%       5.400000\n",
              "75%       6.300000\n",
              "max       7.000000\n",
              "Name: Điểm LT, dtype: float64"
            ]
          },
          "metadata": {
            "tags": []
          },
          "execution_count": 23
        }
      ]
    },
    {
      "cell_type": "code",
      "metadata": {
        "colab": {
          "base_uri": "https://localhost:8080/",
          "height": 396
        },
        "id": "ozbm7clU9Num",
        "outputId": "daa3ae03-11bf-49fd-f772-ad830afcffa3"
      },
      "source": [
        "sns.set(style='whitegrid', palette=\"deep\", font_scale=1.1, rc={\"figure.figsize\": [8, 5]})\r\n",
        "sns.distplot(\r\n",
        "    df['Điểm LT'], norm_hist=False, kde=False, bins=10, hist_kws={\"alpha\": 1}\r\n",
        ").set(xlabel='Điểm LT', ylabel='Count');"
      ],
      "execution_count": 27,
      "outputs": [
        {
          "output_type": "stream",
          "text": [
            "/usr/local/lib/python3.6/dist-packages/seaborn/distributions.py:2551: FutureWarning: `distplot` is a deprecated function and will be removed in a future version. Please adapt your code to use either `displot` (a figure-level function with similar flexibility) or `histplot` (an axes-level function for histograms).\n",
            "  warnings.warn(msg, FutureWarning)\n"
          ],
          "name": "stderr"
        },
        {
          "output_type": "display_data",
          "data": {
            "image/png": "[encoded data removed]",
            "text/plain": [
              "<Figure size 576x360 with 1 Axes>"
            ]
          },
          "metadata": {
            "tags": []
          }
        }
      ]
    },
    {
      "cell_type": "markdown",
      "metadata": {
        "id": "B1aVIOhz91u8"
      },
      "source": [
        "từ biểu đồ cho thấy được:\r\n",
        "+ giá trị điểm max:7 điểm\r\n",
        "+ giá trị thấp nhất:0 điểm\r\n",
        "+ giá trị trung bình: 5 điểm\r\n",
        "+ sự phân bố từ tập trung từ 4 điểm đến 7 điểm\r\n",
        "+ ta có thể thấy được điểm của sinh viên đều cao hơn 3 và điểm mà sinh viên đạt nhiều nhất là 7 với khoảng 18 sinh viên nhiều thứ 2 là 5 điểm với 15 sinh viên và chỉ có 1 sinh viên 0 điểm"
      ]
    },
    {
      "cell_type": "code",
      "metadata": {
        "colab": {
          "base_uri": "https://localhost:8080/",
          "height": 305
        },
        "id": "r6nKjWXLEPEF",
        "outputId": "f27fa3ec-c755-450e-9ccd-665677e4d6ae"
      },
      "source": [
        "sns.boxplot(x=df['Điểm LT'], y=df['Giới tính'])"
      ],
      "execution_count": 36,
      "outputs": [
        {
          "output_type": "execute_result",
          "data": {
            "text/plain": [
              "<matplotlib.axes._subplots.AxesSubplot at 0x7fc13e324048>"
            ]
          },
          "metadata": {
            "tags": []
          },
          "execution_count": 36
        },
        {
          "output_type": "display_data",
          "data": {
            "image/png": "[encoded data removed]",
            "text/plain": [
              "<Figure size 432x288 with 1 Axes>"
            ]
          },
          "metadata": {
            "tags": [],
            "needs_background": "light"
          }
        }
      ]
    },
    {
      "cell_type": "markdown",
      "metadata": {
        "id": "faK-AtngFryt"
      },
      "source": [
        "boxplot() biểu đồ diễn tả 5 vị trí phân bố của dữ liệu, đó là: \r\n",
        "+giá trị nhỏ nhất 0 điểm, \r\n",
        "+giá trị lớn nhất 7 điểm,\r\n",
        "+giá trị trung bình: 5.4 điểm\r\n",
        "+giá trị trung vị: 4 điểm\r\n",
        "1 bạn nam đạt 5.5 điểm\r\n",
        "chỉ 1 bạn nữ 0 điểm\r\n",
        "tập trung nhiều điểm của các bạn nữ sẽ là 4.7 điểm đến 6.3 điểm với trung vị là 5.4 điểm đạt cao nhất là 7 điểm"
      ]
    }
  ]
}